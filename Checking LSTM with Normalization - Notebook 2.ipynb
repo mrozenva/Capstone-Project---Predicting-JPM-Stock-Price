{
 "cells": [
  {
   "cell_type": "markdown",
   "metadata": {},
   "source": [
    "# LSTM When Normalizing Closing Prices\n",
    "\n",
    "#### In this notebook I normalized only the closing prices and then broke it into train and test datasets. I kpet a simple lookback window to give all similar data same movement and put them in price points as inputs.\n",
    "\n",
    "#### Lets see how we did:"
   ]
  },
  {
   "cell_type": "code",
   "execution_count": 2,
   "metadata": {},
   "outputs": [],
   "source": [
    "from keras.layers.core import Dense, Activation, Dropout\n",
    "from keras.layers.recurrent import LSTM\n",
    "from keras.models import Sequential\n",
    "import time\n",
    "import pandas as pd\n",
    "from tensorflow.keras import Model\n",
    "import tensorflow as tf\n",
    "import tensorflow as keras"
   ]
  },
  {
   "cell_type": "code",
   "execution_count": 3,
   "metadata": {},
   "outputs": [],
   "source": [
    "df2 = pd.read_csv('/Users/michaelrozenvasser/Capstone\\JP_Morgan_Data.csv', header=0, parse_dates=[0])"
   ]
  },
  {
   "cell_type": "code",
   "execution_count": 4,
   "metadata": {},
   "outputs": [
    {
     "data": {
      "text/html": [
       "<div>\n",
       "<style scoped>\n",
       "    .dataframe tbody tr th:only-of-type {\n",
       "        vertical-align: middle;\n",
       "    }\n",
       "\n",
       "    .dataframe tbody tr th {\n",
       "        vertical-align: top;\n",
       "    }\n",
       "\n",
       "    .dataframe thead th {\n",
       "        text-align: right;\n",
       "    }\n",
       "</style>\n",
       "<table border=\"1\" class=\"dataframe\">\n",
       "  <thead>\n",
       "    <tr style=\"text-align: right;\">\n",
       "      <th></th>\n",
       "      <th>Date</th>\n",
       "      <th>Open</th>\n",
       "      <th>High</th>\n",
       "      <th>Low</th>\n",
       "      <th>Close</th>\n",
       "      <th>Volume</th>\n",
       "      <th>Dividends</th>\n",
       "      <th>Stock Splits</th>\n",
       "    </tr>\n",
       "  </thead>\n",
       "  <tbody>\n",
       "    <tr>\n",
       "      <th>0</th>\n",
       "      <td>2012-01-03</td>\n",
       "      <td>26.311090</td>\n",
       "      <td>27.184005</td>\n",
       "      <td>26.272463</td>\n",
       "      <td>27.021782</td>\n",
       "      <td>44102800</td>\n",
       "      <td>0.00</td>\n",
       "      <td>0</td>\n",
       "    </tr>\n",
       "    <tr>\n",
       "      <th>1</th>\n",
       "      <td>2012-01-04</td>\n",
       "      <td>26.796150</td>\n",
       "      <td>27.348570</td>\n",
       "      <td>26.710567</td>\n",
       "      <td>27.192959</td>\n",
       "      <td>36571200</td>\n",
       "      <td>0.25</td>\n",
       "      <td>0</td>\n",
       "    </tr>\n",
       "    <tr>\n",
       "      <th>2</th>\n",
       "      <td>2012-01-05</td>\n",
       "      <td>27.006224</td>\n",
       "      <td>27.947668</td>\n",
       "      <td>26.765030</td>\n",
       "      <td>27.760937</td>\n",
       "      <td>38381400</td>\n",
       "      <td>0.00</td>\n",
       "      <td>0</td>\n",
       "    </tr>\n",
       "    <tr>\n",
       "      <th>3</th>\n",
       "      <td>2012-01-06</td>\n",
       "      <td>27.768700</td>\n",
       "      <td>27.830945</td>\n",
       "      <td>27.340771</td>\n",
       "      <td>27.511944</td>\n",
       "      <td>33160600</td>\n",
       "      <td>0.00</td>\n",
       "      <td>0</td>\n",
       "    </tr>\n",
       "    <tr>\n",
       "      <th>4</th>\n",
       "      <td>2012-01-09</td>\n",
       "      <td>27.574200</td>\n",
       "      <td>27.760934</td>\n",
       "      <td>27.224078</td>\n",
       "      <td>27.465273</td>\n",
       "      <td>23001800</td>\n",
       "      <td>0.00</td>\n",
       "      <td>0</td>\n",
       "    </tr>\n",
       "  </tbody>\n",
       "</table>\n",
       "</div>"
      ],
      "text/plain": [
       "        Date       Open       High        Low      Close    Volume  Dividends  \\\n",
       "0 2012-01-03  26.311090  27.184005  26.272463  27.021782  44102800       0.00   \n",
       "1 2012-01-04  26.796150  27.348570  26.710567  27.192959  36571200       0.25   \n",
       "2 2012-01-05  27.006224  27.947668  26.765030  27.760937  38381400       0.00   \n",
       "3 2012-01-06  27.768700  27.830945  27.340771  27.511944  33160600       0.00   \n",
       "4 2012-01-09  27.574200  27.760934  27.224078  27.465273  23001800       0.00   \n",
       "\n",
       "   Stock Splits  \n",
       "0             0  \n",
       "1             0  \n",
       "2             0  \n",
       "3             0  \n",
       "4             0  "
      ]
     },
     "execution_count": 4,
     "metadata": {},
     "output_type": "execute_result"
    }
   ],
   "source": [
    "df2.head()"
   ]
  },
  {
   "cell_type": "code",
   "execution_count": 5,
   "metadata": {},
   "outputs": [],
   "source": [
    "import numpy as np"
   ]
  },
  {
   "cell_type": "code",
   "execution_count": 9,
   "metadata": {},
   "outputs": [],
   "source": [
    "df_close = df2['Close']"
   ]
  },
  {
   "cell_type": "code",
   "execution_count": 10,
   "metadata": {},
   "outputs": [
    {
     "data": {
      "text/plain": [
       "(2264,)"
      ]
     },
     "execution_count": 10,
     "metadata": {},
     "output_type": "execute_result"
    }
   ],
   "source": [
    "df_close.shape"
   ]
  },
  {
   "cell_type": "code",
   "execution_count": 11,
   "metadata": {},
   "outputs": [],
   "source": [
    "#Reshaping it\n",
    "df_close = df_close.values.reshape(2264,1)"
   ]
  },
  {
   "cell_type": "code",
   "execution_count": 12,
   "metadata": {},
   "outputs": [
    {
     "data": {
      "image/png": "[encoded data removed]",
      "text/plain": [
       "<Figure size 432x288 with 1 Axes>"
      ]
     },
     "metadata": {
      "needs_background": "light"
     },
     "output_type": "display_data"
    }
   ],
   "source": [
    "import matplotlib.pyplot as plt\n",
    "from sklearn.preprocessing import MinMaxScaler\n",
    "\n",
    "plt.plot(df_close)\n",
    "plt.show()\n",
    "\n",
    "scaler = MinMaxScaler(feature_range=(0, 1))\n",
    "df_close = scaler.fit_transform(df_close)"
   ]
  },
  {
   "cell_type": "code",
   "execution_count": 13,
   "metadata": {},
   "outputs": [
    {
     "name": "stdout",
     "output_type": "stream",
     "text": [
      "1811 453\n"
     ]
    }
   ],
   "source": [
    "train_size = int(len(df_close) * 0.80)\n",
    "test_size = len(df_close) - train_size\n",
    "train, test = df_close[0:train_size,:], df_close[train_size:len(df_close),:]\n",
    "print(len(train), len(test))"
   ]
  },
  {
   "cell_type": "markdown",
   "metadata": {},
   "source": [
    "#### Normalize the values such that prices are reduced to normalized values and I can predict stock movement instead of actual prices"
   ]
  },
  {
   "cell_type": "code",
   "execution_count": 14,
   "metadata": {},
   "outputs": [],
   "source": [
    "# convert an array of values into a dataset matrix\n",
    "def create_dataset(dataset, look_back=1): #keep only similar value data if a data point is too far of the last one jump to the next value\n",
    "    dataX, dataY = [], []       #put this in data x\n",
    "    for i in range(len(dataset)-look_back-1): #let dataY have only output values\n",
    "        a = dataset[i:(i+look_back), 0]\n",
    "        dataX.append(a)\n",
    "        dataY.append(dataset[i + look_back, 0])\n",
    "    return np.array(dataX), np.array(dataY)"
   ]
  },
  {
   "cell_type": "code",
   "execution_count": 15,
   "metadata": {},
   "outputs": [],
   "source": [
    "# reshape into X=t and Y=t+1\n",
    "look_back = 1\n",
    "trainX, trainY = create_dataset(train, look_back)\n",
    "testX, testY = create_dataset(test, look_back)"
   ]
  },
  {
   "cell_type": "code",
   "execution_count": 16,
   "metadata": {},
   "outputs": [],
   "source": [
    "trainX = np.reshape(trainX, (trainX.shape[0], 1, trainX.shape[1]))\n",
    "testX = np.reshape(testX, (testX.shape[0], 1, testX.shape[1]))"
   ]
  },
  {
   "cell_type": "code",
   "execution_count": 17,
   "metadata": {},
   "outputs": [
    {
     "name": "stdout",
     "output_type": "stream",
     "text": [
      "compilation time :  0.00528717041015625\n"
     ]
    }
   ],
   "source": [
    "#Step 2 Build Model\n",
    "model = Sequential()\n",
    "\n",
    "model.add(LSTM(\n",
    "    input_shape=(None, 1),\n",
    "    units = 50,\n",
    "    return_sequences=True))\n",
    "model.add(Dropout(0.2))\n",
    "\n",
    "model.add(LSTM(\n",
    "    100,\n",
    "    return_sequences=False))\n",
    "model.add(Dropout(0.2))\n",
    "\n",
    "model.add(Dense(\n",
    "    units=1))\n",
    "model.add(Activation('relu'))\n",
    "\n",
    "start = time.time()\n",
    "model.compile(loss='mse', optimizer='rmsprop', metrics=['mae'])\n",
    "print ('compilation time : ', time.time() - start)"
   ]
  },
  {
   "cell_type": "code",
   "execution_count": 18,
   "metadata": {},
   "outputs": [
    {
     "name": "stdout",
     "output_type": "stream",
     "text": [
      "Epoch 1/80\n",
      "14/14 [==============================] - 3s 51ms/step - loss: 0.1049 - mae: 0.2576 - val_loss: 0.1779 - val_mae: 0.4207\n",
      "Epoch 2/80\n",
      "14/14 [==============================] - 0s 5ms/step - loss: 0.0373 - mae: 0.1399 - val_loss: 0.0614 - val_mae: 0.2464\n",
      "Epoch 3/80\n",
      "14/14 [==============================] - 0s 5ms/step - loss: 0.0197 - mae: 0.1148 - val_loss: 0.0372 - val_mae: 0.1918\n",
      "Epoch 4/80\n",
      "14/14 [==============================] - 0s 5ms/step - loss: 0.0138 - mae: 0.0986 - val_loss: 0.0190 - val_mae: 0.1369\n",
      "Epoch 5/80\n",
      "14/14 [==============================] - 0s 5ms/step - loss: 0.0072 - mae: 0.0694 - val_loss: 0.0052 - val_mae: 0.0709\n",
      "Epoch 6/80\n",
      "14/14 [==============================] - 0s 5ms/step - loss: 0.0023 - mae: 0.0370 - val_loss: 0.0012 - val_mae: 0.0332\n",
      "Epoch 7/80\n",
      "14/14 [==============================] - 0s 5ms/step - loss: 0.0014 - mae: 0.0275 - val_loss: 0.0017 - val_mae: 0.0392\n",
      "Epoch 8/80\n",
      "14/14 [==============================] - 0s 5ms/step - loss: 0.0015 - mae: 0.0274 - val_loss: 1.7497e-04 - val_mae: 0.0098\n",
      "Epoch 9/80\n",
      "14/14 [==============================] - 0s 5ms/step - loss: 0.0013 - mae: 0.0249 - val_loss: 1.5759e-04 - val_mae: 0.0089\n",
      "Epoch 10/80\n",
      "14/14 [==============================] - 0s 5ms/step - loss: 0.0014 - mae: 0.0251 - val_loss: 4.4641e-04 - val_mae: 0.0184\n",
      "Epoch 11/80\n",
      "14/14 [==============================] - 0s 5ms/step - loss: 0.0010 - mae: 0.0231 - val_loss: 4.1977e-04 - val_mae: 0.0177\n",
      "Epoch 12/80\n",
      "14/14 [==============================] - 0s 5ms/step - loss: 0.0014 - mae: 0.0266 - val_loss: 1.8791e-04 - val_mae: 0.0103\n",
      "Epoch 13/80\n",
      "14/14 [==============================] - 0s 6ms/step - loss: 0.0013 - mae: 0.0243 - val_loss: 0.0016 - val_mae: 0.0377\n",
      "Epoch 14/80\n",
      "14/14 [==============================] - 0s 5ms/step - loss: 0.0012 - mae: 0.0247 - val_loss: 1.4862e-04 - val_mae: 0.0087\n",
      "Epoch 15/80\n",
      "14/14 [==============================] - 0s 6ms/step - loss: 0.0012 - mae: 0.0236 - val_loss: 0.0011 - val_mae: 0.0317\n",
      "Epoch 16/80\n",
      "14/14 [==============================] - 0s 5ms/step - loss: 0.0011 - mae: 0.0230 - val_loss: 0.0016 - val_mae: 0.0381\n",
      "Epoch 17/80\n",
      "14/14 [==============================] - 0s 5ms/step - loss: 9.2041e-04 - mae: 0.0211 - val_loss: 5.9605e-04 - val_mae: 0.0219\n",
      "Epoch 18/80\n",
      "14/14 [==============================] - 0s 5ms/step - loss: 0.0010 - mae: 0.0220 - val_loss: 3.5977e-04 - val_mae: 0.0163\n",
      "Epoch 19/80\n",
      "14/14 [==============================] - 0s 5ms/step - loss: 9.0546e-04 - mae: 0.0206 - val_loss: 2.5824e-04 - val_mae: 0.0132\n",
      "Epoch 20/80\n",
      "14/14 [==============================] - 0s 5ms/step - loss: 0.0010 - mae: 0.0217 - val_loss: 2.1231e-04 - val_mae: 0.0115\n",
      "Epoch 21/80\n",
      "14/14 [==============================] - 0s 5ms/step - loss: 9.8725e-04 - mae: 0.0218 - val_loss: 4.9134e-04 - val_mae: 0.0196\n",
      "Epoch 22/80\n",
      "14/14 [==============================] - 0s 5ms/step - loss: 9.4161e-04 - mae: 0.0206 - val_loss: 0.0014 - val_mae: 0.0357\n",
      "Epoch 23/80\n",
      "14/14 [==============================] - 0s 5ms/step - loss: 0.0010 - mae: 0.0222 - val_loss: 1.4721e-04 - val_mae: 0.0089\n",
      "Epoch 24/80\n",
      "14/14 [==============================] - 0s 5ms/step - loss: 8.3163e-04 - mae: 0.0201 - val_loss: 7.4474e-04 - val_mae: 0.0250\n",
      "Epoch 25/80\n",
      "14/14 [==============================] - 0s 5ms/step - loss: 9.3394e-04 - mae: 0.0210 - val_loss: 2.8119e-04 - val_mae: 0.0139\n",
      "Epoch 26/80\n",
      "14/14 [==============================] - 0s 5ms/step - loss: 7.2622e-04 - mae: 0.0180 - val_loss: 1.3945e-04 - val_mae: 0.0086\n",
      "Epoch 27/80\n",
      "14/14 [==============================] - 0s 6ms/step - loss: 8.1281e-04 - mae: 0.0194 - val_loss: 9.4096e-04 - val_mae: 0.0287\n",
      "Epoch 28/80\n",
      "14/14 [==============================] - 0s 6ms/step - loss: 8.2884e-04 - mae: 0.0197 - val_loss: 1.5895e-04 - val_mae: 0.0095\n",
      "Epoch 29/80\n",
      "14/14 [==============================] - 0s 5ms/step - loss: 7.8057e-04 - mae: 0.0189 - val_loss: 1.5662e-04 - val_mae: 0.0094\n",
      "Epoch 30/80\n",
      "14/14 [==============================] - 0s 6ms/step - loss: 7.4539e-04 - mae: 0.0185 - val_loss: 1.7120e-04 - val_mae: 0.0100\n",
      "Epoch 31/80\n",
      "14/14 [==============================] - 0s 5ms/step - loss: 6.7410e-04 - mae: 0.0176 - val_loss: 6.6493e-04 - val_mae: 0.0235\n",
      "Epoch 32/80\n",
      "14/14 [==============================] - 0s 5ms/step - loss: 8.4840e-04 - mae: 0.0194 - val_loss: 1.4747e-04 - val_mae: 0.0090\n",
      "Epoch 33/80\n",
      "14/14 [==============================] - 0s 5ms/step - loss: 7.3501e-04 - mae: 0.0177 - val_loss: 1.3412e-04 - val_mae: 0.0085\n",
      "Epoch 34/80\n",
      "14/14 [==============================] - 0s 6ms/step - loss: 7.4397e-04 - mae: 0.0184 - val_loss: 2.5987e-04 - val_mae: 0.0134\n",
      "Epoch 35/80\n",
      "14/14 [==============================] - 0s 6ms/step - loss: 7.4251e-04 - mae: 0.0177 - val_loss: 2.2835e-04 - val_mae: 0.0121\n",
      "Epoch 36/80\n",
      "14/14 [==============================] - 0s 6ms/step - loss: 7.7201e-04 - mae: 0.0189 - val_loss: 1.4526e-04 - val_mae: 0.0090\n",
      "Epoch 37/80\n",
      "14/14 [==============================] - 0s 5ms/step - loss: 7.5537e-04 - mae: 0.0183 - val_loss: 3.0219e-04 - val_mae: 0.0146\n",
      "Epoch 38/80\n",
      "14/14 [==============================] - 0s 5ms/step - loss: 6.6989e-04 - mae: 0.0172 - val_loss: 0.0014 - val_mae: 0.0351\n",
      "Epoch 39/80\n",
      "14/14 [==============================] - 0s 5ms/step - loss: 7.6319e-04 - mae: 0.0183 - val_loss: 4.7703e-04 - val_mae: 0.0195\n",
      "Epoch 40/80\n",
      "14/14 [==============================] - 0s 5ms/step - loss: 7.1552e-04 - mae: 0.0187 - val_loss: 4.6695e-04 - val_mae: 0.0192\n",
      "Epoch 41/80\n",
      "14/14 [==============================] - 0s 5ms/step - loss: 5.9788e-04 - mae: 0.0165 - val_loss: 2.1388e-04 - val_mae: 0.0117\n",
      "Epoch 42/80\n",
      "14/14 [==============================] - 0s 5ms/step - loss: 6.6600e-04 - mae: 0.0171 - val_loss: 5.4228e-04 - val_mae: 0.0208\n",
      "Epoch 43/80\n",
      "14/14 [==============================] - 0s 5ms/step - loss: 7.3743e-04 - mae: 0.0182 - val_loss: 2.1063e-04 - val_mae: 0.0116\n",
      "Epoch 44/80\n",
      "14/14 [==============================] - 0s 5ms/step - loss: 5.7739e-04 - mae: 0.0166 - val_loss: 7.1866e-04 - val_mae: 0.0246\n",
      "Epoch 45/80\n",
      "14/14 [==============================] - 0s 5ms/step - loss: 6.2251e-04 - mae: 0.0173 - val_loss: 6.0632e-04 - val_mae: 0.0223\n",
      "Epoch 46/80\n",
      "14/14 [==============================] - 0s 5ms/step - loss: 7.2172e-04 - mae: 0.0178 - val_loss: 5.7461e-04 - val_mae: 0.0215\n",
      "Epoch 47/80\n",
      "14/14 [==============================] - 0s 5ms/step - loss: 6.9591e-04 - mae: 0.0171 - val_loss: 9.4064e-04 - val_mae: 0.0286\n",
      "Epoch 48/80\n",
      "14/14 [==============================] - 0s 5ms/step - loss: 6.8333e-04 - mae: 0.0181 - val_loss: 9.2173e-04 - val_mae: 0.0284\n",
      "Epoch 49/80\n",
      "14/14 [==============================] - 0s 5ms/step - loss: 6.9781e-04 - mae: 0.0181 - val_loss: 2.7771e-04 - val_mae: 0.0138\n",
      "Epoch 50/80\n",
      "14/14 [==============================] - 0s 5ms/step - loss: 5.8762e-04 - mae: 0.0165 - val_loss: 1.4179e-04 - val_mae: 0.0091\n",
      "Epoch 51/80\n",
      "14/14 [==============================] - 0s 5ms/step - loss: 6.2051e-04 - mae: 0.0167 - val_loss: 0.0011 - val_mae: 0.0315\n",
      "Epoch 52/80\n",
      "14/14 [==============================] - 0s 5ms/step - loss: 5.8724e-04 - mae: 0.0161 - val_loss: 2.7677e-04 - val_mae: 0.0141\n",
      "Epoch 53/80\n",
      "14/14 [==============================] - 0s 5ms/step - loss: 5.4807e-04 - mae: 0.0162 - val_loss: 2.3761e-04 - val_mae: 0.0126\n",
      "Epoch 54/80\n",
      "14/14 [==============================] - 0s 5ms/step - loss: 6.7543e-04 - mae: 0.0172 - val_loss: 7.9702e-04 - val_mae: 0.0261\n",
      "Epoch 55/80\n",
      "14/14 [==============================] - 0s 5ms/step - loss: 7.9336e-04 - mae: 0.0189 - val_loss: 1.9009e-04 - val_mae: 0.0108\n",
      "Epoch 56/80\n",
      "14/14 [==============================] - 0s 5ms/step - loss: 6.1407e-04 - mae: 0.0167 - val_loss: 9.6270e-04 - val_mae: 0.0291\n",
      "Epoch 57/80\n",
      "14/14 [==============================] - 0s 5ms/step - loss: 6.7744e-04 - mae: 0.0179 - val_loss: 2.3483e-04 - val_mae: 0.0125\n",
      "Epoch 58/80\n",
      "14/14 [==============================] - 0s 5ms/step - loss: 6.5288e-04 - mae: 0.0170 - val_loss: 3.2260e-04 - val_mae: 0.0154\n",
      "Epoch 59/80\n",
      "14/14 [==============================] - 0s 5ms/step - loss: 6.4026e-04 - mae: 0.0172 - val_loss: 1.3134e-04 - val_mae: 0.0085\n",
      "Epoch 60/80\n",
      "14/14 [==============================] - 0s 5ms/step - loss: 5.7495e-04 - mae: 0.0162 - val_loss: 1.3702e-04 - val_mae: 0.0089\n"
     ]
    },
    {
     "name": "stdout",
     "output_type": "stream",
     "text": [
      "Epoch 61/80\n",
      "14/14 [==============================] - 0s 5ms/step - loss: 6.0083e-04 - mae: 0.0165 - val_loss: 5.8681e-04 - val_mae: 0.0219\n",
      "Epoch 62/80\n",
      "14/14 [==============================] - 0s 5ms/step - loss: 6.0883e-04 - mae: 0.0171 - val_loss: 3.8249e-04 - val_mae: 0.0168\n",
      "Epoch 63/80\n",
      "14/14 [==============================] - 0s 5ms/step - loss: 5.9950e-04 - mae: 0.0168 - val_loss: 1.2982e-04 - val_mae: 0.0085\n",
      "Epoch 64/80\n",
      "14/14 [==============================] - 0s 5ms/step - loss: 5.4478e-04 - mae: 0.0158 - val_loss: 1.3054e-04 - val_mae: 0.0085\n",
      "Epoch 65/80\n",
      "14/14 [==============================] - 0s 5ms/step - loss: 5.6531e-04 - mae: 0.0159 - val_loss: 5.6222e-04 - val_mae: 0.0212\n",
      "Epoch 66/80\n",
      "14/14 [==============================] - 0s 5ms/step - loss: 5.9889e-04 - mae: 0.0170 - val_loss: 1.3196e-04 - val_mae: 0.0087\n",
      "Epoch 67/80\n",
      "14/14 [==============================] - 0s 5ms/step - loss: 5.7778e-04 - mae: 0.0163 - val_loss: 4.8307e-04 - val_mae: 0.0196\n",
      "Epoch 68/80\n",
      "14/14 [==============================] - 0s 5ms/step - loss: 6.0045e-04 - mae: 0.0169 - val_loss: 1.9431e-04 - val_mae: 0.0111\n",
      "Epoch 69/80\n",
      "14/14 [==============================] - 0s 5ms/step - loss: 6.0784e-04 - mae: 0.0167 - val_loss: 3.7393e-04 - val_mae: 0.0165\n",
      "Epoch 70/80\n",
      "14/14 [==============================] - 0s 5ms/step - loss: 5.0945e-04 - mae: 0.0155 - val_loss: 2.3552e-04 - val_mae: 0.0125\n",
      "Epoch 71/80\n",
      "14/14 [==============================] - 0s 5ms/step - loss: 5.6780e-04 - mae: 0.0163 - val_loss: 2.1946e-04 - val_mae: 0.0121\n",
      "Epoch 72/80\n",
      "14/14 [==============================] - 0s 5ms/step - loss: 5.7113e-04 - mae: 0.0166 - val_loss: 5.1148e-04 - val_mae: 0.0201\n",
      "Epoch 73/80\n",
      "14/14 [==============================] - 0s 5ms/step - loss: 5.0564e-04 - mae: 0.0159 - val_loss: 1.6151e-04 - val_mae: 0.0099\n",
      "Epoch 74/80\n",
      "14/14 [==============================] - 0s 5ms/step - loss: 4.4848e-04 - mae: 0.0148 - val_loss: 8.1867e-04 - val_mae: 0.0265\n",
      "Epoch 75/80\n",
      "14/14 [==============================] - 0s 5ms/step - loss: 5.5905e-04 - mae: 0.0164 - val_loss: 1.5246e-04 - val_mae: 0.0094\n",
      "Epoch 76/80\n",
      "14/14 [==============================] - 0s 5ms/step - loss: 4.9828e-04 - mae: 0.0156 - val_loss: 1.3440e-04 - val_mae: 0.0088\n",
      "Epoch 77/80\n",
      "14/14 [==============================] - 0s 5ms/step - loss: 4.3578e-04 - mae: 0.0148 - val_loss: 2.4850e-04 - val_mae: 0.0129\n",
      "Epoch 78/80\n",
      "14/14 [==============================] - 0s 5ms/step - loss: 4.5728e-04 - mae: 0.0149 - val_loss: 1.5016e-04 - val_mae: 0.0092\n",
      "Epoch 79/80\n",
      "14/14 [==============================] - 0s 5ms/step - loss: 5.4387e-04 - mae: 0.0157 - val_loss: 0.0012 - val_mae: 0.0324\n",
      "Epoch 80/80\n",
      "14/14 [==============================] - 0s 5ms/step - loss: 5.9724e-04 - mae: 0.0170 - val_loss: 5.4413e-04 - val_mae: 0.0208\n"
     ]
    },
    {
     "data": {
      "text/plain": [
       "<tensorflow.python.keras.callbacks.History at 0x7fb836ff9bb0>"
      ]
     },
     "execution_count": 18,
     "metadata": {},
     "output_type": "execute_result"
    }
   ],
   "source": [
    "model.fit(\n",
    "    trainX,\n",
    "    trainY,\n",
    "    batch_size=128,\n",
    "    epochs=80,\n",
    "    validation_split=0.05)"
   ]
  },
  {
   "cell_type": "markdown",
   "metadata": {},
   "source": [
    "#### we are getting a good mae but we need to see if it is overtrained so I wil run it on 40 epochs."
   ]
  },
  {
   "cell_type": "code",
   "execution_count": 19,
   "metadata": {},
   "outputs": [
    {
     "name": "stdout",
     "output_type": "stream",
     "text": [
      "Epoch 1/40\n",
      "14/14 [==============================] - 0s 9ms/step - loss: 5.7665e-04 - mae: 0.0165 - val_loss: 8.1753e-04 - val_mae: 0.0265\n",
      "Epoch 2/40\n",
      "14/14 [==============================] - 0s 5ms/step - loss: 4.3680e-04 - mae: 0.0148 - val_loss: 6.3390e-04 - val_mae: 0.0228\n",
      "Epoch 3/40\n",
      "14/14 [==============================] - 0s 5ms/step - loss: 5.9030e-04 - mae: 0.0166 - val_loss: 2.6539e-04 - val_mae: 0.0137\n",
      "Epoch 4/40\n",
      "14/14 [==============================] - 0s 5ms/step - loss: 5.2507e-04 - mae: 0.0161 - val_loss: 1.3430e-04 - val_mae: 0.0087\n",
      "Epoch 5/40\n",
      "14/14 [==============================] - 0s 5ms/step - loss: 5.2378e-04 - mae: 0.0155 - val_loss: 1.3198e-04 - val_mae: 0.0087\n",
      "Epoch 6/40\n",
      "14/14 [==============================] - 0s 5ms/step - loss: 5.4129e-04 - mae: 0.0166 - val_loss: 1.2897e-04 - val_mae: 0.0085\n",
      "Epoch 7/40\n",
      "14/14 [==============================] - 0s 5ms/step - loss: 5.2010e-04 - mae: 0.0157 - val_loss: 4.9121e-04 - val_mae: 0.0198\n",
      "Epoch 8/40\n",
      "14/14 [==============================] - 0s 6ms/step - loss: 5.8370e-04 - mae: 0.0166 - val_loss: 1.5110e-04 - val_mae: 0.0093\n",
      "Epoch 9/40\n",
      "14/14 [==============================] - 0s 6ms/step - loss: 5.2942e-04 - mae: 0.0159 - val_loss: 6.9342e-04 - val_mae: 0.0241\n",
      "Epoch 10/40\n",
      "14/14 [==============================] - 0s 6ms/step - loss: 5.6561e-04 - mae: 0.0165 - val_loss: 1.5081e-04 - val_mae: 0.0093\n",
      "Epoch 11/40\n",
      "14/14 [==============================] - 0s 5ms/step - loss: 5.0647e-04 - mae: 0.0155 - val_loss: 6.7532e-04 - val_mae: 0.0237\n",
      "Epoch 12/40\n",
      "14/14 [==============================] - 0s 5ms/step - loss: 5.2465e-04 - mae: 0.0162 - val_loss: 2.3060e-04 - val_mae: 0.0125\n",
      "Epoch 13/40\n",
      "14/14 [==============================] - 0s 5ms/step - loss: 5.2154e-04 - mae: 0.0162 - val_loss: 2.4180e-04 - val_mae: 0.0127\n",
      "Epoch 14/40\n",
      "14/14 [==============================] - 0s 6ms/step - loss: 5.1035e-04 - mae: 0.0156 - val_loss: 2.3317e-04 - val_mae: 0.0124\n",
      "Epoch 15/40\n",
      "14/14 [==============================] - 0s 6ms/step - loss: 5.1869e-04 - mae: 0.0162 - val_loss: 1.4289e-04 - val_mae: 0.0090\n",
      "Epoch 16/40\n",
      "14/14 [==============================] - 0s 7ms/step - loss: 4.3926e-04 - mae: 0.0145 - val_loss: 3.7572e-04 - val_mae: 0.0169\n",
      "Epoch 17/40\n",
      "14/14 [==============================] - 0s 6ms/step - loss: 5.3026e-04 - mae: 0.0159 - val_loss: 4.0196e-04 - val_mae: 0.0173\n",
      "Epoch 18/40\n",
      "14/14 [==============================] - 0s 7ms/step - loss: 5.0880e-04 - mae: 0.0155 - val_loss: 1.3301e-04 - val_mae: 0.0087\n",
      "Epoch 19/40\n",
      "14/14 [==============================] - 0s 6ms/step - loss: 5.6906e-04 - mae: 0.0165 - val_loss: 1.3846e-04 - val_mae: 0.0088\n",
      "Epoch 20/40\n",
      "14/14 [==============================] - 0s 7ms/step - loss: 4.6475e-04 - mae: 0.0149 - val_loss: 2.3947e-04 - val_mae: 0.0127\n",
      "Epoch 21/40\n",
      "14/14 [==============================] - 0s 7ms/step - loss: 5.2287e-04 - mae: 0.0161 - val_loss: 9.9655e-04 - val_mae: 0.0295\n",
      "Epoch 22/40\n",
      "14/14 [==============================] - 0s 7ms/step - loss: 4.9645e-04 - mae: 0.0156 - val_loss: 1.4619e-04 - val_mae: 0.0092\n",
      "Epoch 23/40\n",
      "14/14 [==============================] - 0s 7ms/step - loss: 5.0619e-04 - mae: 0.0159 - val_loss: 3.7250e-04 - val_mae: 0.0168\n",
      "Epoch 24/40\n",
      "14/14 [==============================] - 0s 7ms/step - loss: 5.0081e-04 - mae: 0.0158 - val_loss: 2.1042e-04 - val_mae: 0.0116\n",
      "Epoch 25/40\n",
      "14/14 [==============================] - 0s 7ms/step - loss: 5.0399e-04 - mae: 0.0160 - val_loss: 3.7656e-04 - val_mae: 0.0170\n",
      "Epoch 26/40\n",
      "14/14 [==============================] - 0s 7ms/step - loss: 4.7307e-04 - mae: 0.0152 - val_loss: 1.6950e-04 - val_mae: 0.0102\n",
      "Epoch 27/40\n",
      "14/14 [==============================] - 0s 8ms/step - loss: 4.8581e-04 - mae: 0.0158 - val_loss: 1.7414e-04 - val_mae: 0.0104\n",
      "Epoch 28/40\n",
      "14/14 [==============================] - 0s 7ms/step - loss: 4.6894e-04 - mae: 0.0153 - val_loss: 5.5939e-04 - val_mae: 0.0212\n",
      "Epoch 29/40\n",
      "14/14 [==============================] - 0s 7ms/step - loss: 5.4117e-04 - mae: 0.0166 - val_loss: 2.3782e-04 - val_mae: 0.0126\n",
      "Epoch 30/40\n",
      "14/14 [==============================] - 0s 6ms/step - loss: 4.5495e-04 - mae: 0.0150 - val_loss: 1.3099e-04 - val_mae: 0.0087\n",
      "Epoch 31/40\n",
      "14/14 [==============================] - 0s 5ms/step - loss: 5.2354e-04 - mae: 0.0161 - val_loss: 5.6107e-04 - val_mae: 0.0212\n",
      "Epoch 32/40\n",
      "14/14 [==============================] - 0s 6ms/step - loss: 5.1437e-04 - mae: 0.0160 - val_loss: 1.2916e-04 - val_mae: 0.0085\n",
      "Epoch 33/40\n",
      "14/14 [==============================] - 0s 5ms/step - loss: 4.6963e-04 - mae: 0.0153 - val_loss: 2.6013e-04 - val_mae: 0.0133\n",
      "Epoch 34/40\n",
      "14/14 [==============================] - 0s 6ms/step - loss: 5.3624e-04 - mae: 0.0165 - val_loss: 1.2926e-04 - val_mae: 0.0085\n",
      "Epoch 35/40\n",
      "14/14 [==============================] - 0s 7ms/step - loss: 4.6514e-04 - mae: 0.0152 - val_loss: 3.7693e-04 - val_mae: 0.0166\n",
      "Epoch 36/40\n",
      "14/14 [==============================] - 0s 7ms/step - loss: 5.1538e-04 - mae: 0.0161 - val_loss: 0.0010 - val_mae: 0.0301\n",
      "Epoch 37/40\n",
      "14/14 [==============================] - 0s 7ms/step - loss: 4.4822e-04 - mae: 0.0152 - val_loss: 1.5014e-04 - val_mae: 0.0094\n",
      "Epoch 38/40\n",
      "14/14 [==============================] - 0s 7ms/step - loss: 4.8867e-04 - mae: 0.0158 - val_loss: 3.5196e-04 - val_mae: 0.0163\n",
      "Epoch 39/40\n",
      "14/14 [==============================] - 0s 6ms/step - loss: 5.0938e-04 - mae: 0.0160 - val_loss: 2.7242e-04 - val_mae: 0.0137\n",
      "Epoch 40/40\n",
      "14/14 [==============================] - 0s 6ms/step - loss: 4.7275e-04 - mae: 0.0154 - val_loss: 1.3668e-04 - val_mae: 0.0089\n"
     ]
    },
    {
     "data": {
      "text/plain": [
       "<tensorflow.python.keras.callbacks.History at 0x7fb83ba131f0>"
      ]
     },
     "execution_count": 19,
     "metadata": {},
     "output_type": "execute_result"
    }
   ],
   "source": [
    "model.fit(\n",
    "    trainX,\n",
    "    trainY,\n",
    "    batch_size=128,\n",
    "    epochs=40,\n",
    "    validation_split=0.05)"
   ]
  },
  {
   "cell_type": "markdown",
   "metadata": {},
   "source": [
    "### Final Predictions"
   ]
  },
  {
   "cell_type": "code",
   "execution_count": 19,
   "metadata": {},
   "outputs": [
    {
     "data": {
      "image/png": "[encoded data removed]",
      "text/plain": [
       "<Figure size 432x288 with 1 Axes>"
      ]
     },
     "metadata": {
      "needs_background": "light"
     },
     "output_type": "display_data"
    }
   ],
   "source": [
    "import matplotlib.pyplot as plt\n",
    "predicted_stateful = model.predict(testX)\n",
    "plt.plot(testY, color = 'red',label = 'Actual Closing Prices')\n",
    "plt.plot(predicted_stateful.flatten(), color = 'blue', label  = 'Predicted closing Prices')\n",
    "plt.xlabel('Days')\n",
    "plt.ylabel('Normalised Prices')\n",
    "plt.legend(loc='best')\n",
    "plt.show()"
   ]
  },
  {
   "cell_type": "code",
   "execution_count": 20,
   "metadata": {},
   "outputs": [
    {
     "name": "stdout",
     "output_type": "stream",
     "text": [
      "15/15 [==============================] - 0s 1ms/step - loss: 2.5486e-04 - mae: 0.0136\n"
     ]
    }
   ],
   "source": [
    "mae = model.evaluate(trainX,\n",
    "    trainY,\n",
    "    batch_size=128,verbose=1)"
   ]
  },
  {
   "cell_type": "markdown",
   "metadata": {},
   "source": [
    "#### As we can tell the LSTM works great to predict closing prices when we normalize the prices and predict the stock price movement."
   ]
  },
  {
   "cell_type": "code",
   "execution_count": null,
   "metadata": {},
   "outputs": [],
   "source": []
  }
 ],
 "metadata": {
  "kernelspec": {
   "display_name": "Python 3",
   "language": "python",
   "name": "python3"
  },
  "language_info": {
   "codemirror_mode": {
    "name": "ipython",
    "version": 3
   },
   "file_extension": ".py",
   "mimetype": "text/x-python",
   "name": "python",
   "nbconvert_exporter": "python",
   "pygments_lexer": "ipython3",
   "version": "3.8.3"
  },
  "toc": {
   "base_numbering": 1,
   "nav_menu": {},
   "number_sections": true,
   "sideBar": true,
   "skip_h1_title": false,
   "title_cell": "Table of Contents",
   "title_sidebar": "Contents",
   "toc_cell": false,
   "toc_position": {},
   "toc_section_display": true,
   "toc_window_display": false
  }
 },
 "nbformat": 4,
 "nbformat_minor": 4
}
